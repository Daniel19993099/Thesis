{
 "cells": [
  {
   "cell_type": "code",
   "execution_count": 7,
   "metadata": {},
   "outputs": [],
   "source": [
    "import sys\n",
    "sys.argv=[arg for arg in sys.argv if not arg.startswith('--')]\n",
    "sys.path.append('.')"
   ]
  },
  {
   "cell_type": "code",
   "execution_count": 8,
   "metadata": {},
   "outputs": [],
   "source": [
    "import numpy as nm\n",
    "from argparse import ArgumentParser\n",
    "\n",
    "from sfepy import data_dir\n",
    "from sfepy.base.base import IndexedStruct\n",
    "from sfepy.discrete import FieldVariable, Material, Integral, Function,Equation,Equations,Problem\n",
    "from sfepy.discrete.fem import Mesh, FEDomain, Field\n",
    "from sfepy.discrete.conditions import Conditions, EssentialBC\n",
    "from sfepy.terms import Term\n",
    "from sfepy.solvers.ls import ScipyDirect\n",
    "from sfepy.solvers.nls import Newton\n",
    "from sfepy.mechanics.matcoefs import stiffness_from_lame"
   ]
  },
  {
   "cell_type": "code",
   "execution_count": 12,
   "metadata": {},
   "outputs": [
    {
     "name": "stdout",
     "output_type": "stream",
     "text": [
      "sfepy: reading mesh (C:\\Users\\yesda\\AppData\\Local\\Packages\\PythonSoftwareFoundation.Python.3.12_qbz5n2kfra8p0\\LocalCache\\local-packages\\Python312\\site-packages\\sfepy/meshes/2d/rectangle_tri.mesh)...\n",
      "sfepy:   number of vertices: 258\n",
      "sfepy:   number of cells:\n",
      "sfepy:     2_3: 454\n",
      "sfepy: ...done in 0.00 s\n",
      "sfepy: saving regions as groups...\n",
      "sfepy:   omega\n",
      "sfepy:   gamma1\n",
      "sfepy:   gamma2\n",
      "sfepy: ...done\n",
      "sfepy: updating variables...\n",
      "sfepy: ...done\n",
      "sfepy: setting up dof connectivities...\n",
      "sfepy: ...done in 0.00 s\n",
      "sfepy: matrix shape: (1815, 1815)\n",
      "sfepy: assembling matrix graph...\n",
      "sfepy: ...done in 0.00 s\n",
      "sfepy: matrix structural nonzeros: 39145 (1.19e+00% fill)\n",
      "sfepy: updating variables...\n",
      "sfepy: ...done\n",
      "sfepy: updating materials...\n",
      "sfepy:     f\n",
      "sfepy:     m\n",
      "sfepy: ...done in 0.00 s\n",
      "sfepy: nls: iter: 0, residual: 1.343114e+01 (rel: 1.000000e+00)\n",
      "sfepy:   residual:    0.01 [s]\n",
      "sfepy:     matrix:    0.00 [s]\n",
      "sfepy:      solve:    0.01 [s]\n",
      "sfepy: nls: iter: 1, residual: 2.793967e-14 (rel: 2.080216e-15)\n"
     ]
    },
    {
     "data": {
      "text/html": [
       "<pre style=\"white-space:pre;overflow-x:auto;line-height:normal;font-family:Menlo,'DejaVu Sans Mono',consolas,'Courier New',monospace\"><span style=\"color: #808000; text-decoration-color: #808000; font-weight: bold\">Warning:</span><span style=\"color: #808000; text-decoration-color: #808000\"> VTK requires 3D vectors, but 2D vectors given. Appending </span><span style=\"color: #808000; text-decoration-color: #808000; font-weight: bold\">0</span><span style=\"color: #808000; text-decoration-color: #808000\"> third component to u.</span>\n",
       "</pre>\n"
      ],
      "text/plain": [
       "\u001b[1;33mWarning:\u001b[0m\u001b[33m VTK requires 3D vectors, but 2D vectors given. Appending \u001b[0m\u001b[1;33m0\u001b[0m\u001b[33m third component to u.\u001b[0m\n"
      ]
     },
     "metadata": {},
     "output_type": "display_data"
    },
    {
     "name": "stdout",
     "output_type": "stream",
     "text": [
      "sfepy: solved in 1 steps in 0.03 seconds\n"
     ]
    },
    {
     "data": {
      "text/html": [
       "<pre style=\"white-space:pre;overflow-x:auto;line-height:normal;font-family:Menlo,'DejaVu Sans Mono',consolas,'Courier New',monospace\"><span style=\"color: #808000; text-decoration-color: #808000; font-weight: bold\">Warning:</span><span style=\"color: #808000; text-decoration-color: #808000\"> VTK requires 3D vectors, but 2D vectors given. Appending </span><span style=\"color: #808000; text-decoration-color: #808000; font-weight: bold\">0</span><span style=\"color: #808000; text-decoration-color: #808000\"> third component to u.</span>\n",
       "</pre>\n"
      ],
      "text/plain": [
       "\u001b[1;33mWarning:\u001b[0m\u001b[33m VTK requires 3D vectors, but 2D vectors given. Appending \u001b[0m\u001b[1;33m0\u001b[0m\u001b[33m third component to u.\u001b[0m\n"
      ]
     },
     "metadata": {},
     "output_type": "display_data"
    }
   ],
   "source": [
    "def shift_u_fun(ts,coors,bc=None,problem=None,shift=0.0):\n",
    "    val=shift*coors[:,1]**2\n",
    "    return val\n",
    "\n",
    "def main():\n",
    "    mesh=Mesh.from_file(data_dir + '/meshes/2d/rectangle_tri.mesh')\n",
    "    domain=FEDomain('domain',mesh)\n",
    "\n",
    "    min_x,max_x=domain.get_mesh_bounding_box()[:,0]\n",
    "    eps=1e-8*(max_x-min_x)\n",
    "    omega=domain.create_region('omega','all')\n",
    "    gamma1=domain.create_region('gamma1','vertices in x < %.10f' %(min_x+eps),'facet')\n",
    "    gamma2=domain.create_region('gamma2','vertices in x > %.10f' %(max_x-eps),'facet')\n",
    "\n",
    "    field=Field.from_args('fu',nm.float64,'vector', omega,approx_order=2)\n",
    "    u=FieldVariable('u','unknown',field)\n",
    "    v=FieldVariable('v','test',field,primary_var_name='u')\n",
    "\n",
    "    m=Material('m',D=stiffness_from_lame(dim=2,lam=1,mu=1))\n",
    "    f=Material('f',val=[[0.02],[0.01]])\n",
    "\n",
    "    integral=Integral('i',order=3)\n",
    "    t1=Term.new('dw_lin_elastic(m.D,v,u)',integral,omega,m=m,v=v,u=u)\n",
    "    t2=Term.new('dw_volume_lvf(f.val,v)',integral,omega,f=f,v=v)\n",
    "\n",
    "    eq=Equation('balance',t1+t2)\n",
    "    eqs=Equations([eq])\n",
    "\n",
    "    fix_u=EssentialBC('fix_u',gamma1,{'u.all':0.0})\n",
    "    bc_fun=Function('shift_u_fun',shift_u_fun,extra_args={'shift':0.01})\n",
    "    shift_u=EssentialBC('shift_u',gamma2,{'u.0':bc_fun})\n",
    "\n",
    "    ls=ScipyDirect({})\n",
    "    nls_status=IndexedStruct()\n",
    "    nls=Newton({},lin_solver=ls,status=nls_status)\n",
    "\n",
    "    pb=Problem('elasticity',equations=eqs)\n",
    "    pb.save_regions_as_groups('regions')\n",
    "    pb.set_bcs(ebcs=Conditions([fix_u,shift_u]))\n",
    "    pb.set_solver(nls)\n",
    "    status=IndexedStruct()\n",
    "    variable=pb.solve(status=status)\n",
    "    pb.save_state('result1.vtk',variable)\n",
    "\n",
    "main()\n",
    "\n"
   ]
  }
 ],
 "metadata": {
  "kernelspec": {
   "display_name": "Python 3",
   "language": "python",
   "name": "python3"
  },
  "language_info": {
   "codemirror_mode": {
    "name": "ipython",
    "version": 3
   },
   "file_extension": ".py",
   "mimetype": "text/x-python",
   "name": "python",
   "nbconvert_exporter": "python",
   "pygments_lexer": "ipython3",
   "version": "3.12.8"
  }
 },
 "nbformat": 4,
 "nbformat_minor": 2
}
